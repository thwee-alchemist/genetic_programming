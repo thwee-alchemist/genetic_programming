{
 "cells": [
  {
   "cell_type": "markdown",
   "metadata": {},
   "source": [
    "# Friday, November 10th, 2017\n",
    "[Joshua Marshall Moore](thwee.abacadabra.alchemist@gmail.com)\n",
    "\n",
    "This is an example of genetic programming, as presented by http://burakkanber.com/blog/machine-learning-genetic-algorithms-part-1-javascript/."
   ]
  },
  {
   "cell_type": "code",
   "execution_count": 13,
   "metadata": {},
   "outputs": [],
   "source": [
    "import random\n",
    "from math import floor\n",
    "import matplotlib.pyplot as plt"
   ]
  },
  {
   "cell_type": "markdown",
   "metadata": {},
   "source": [
    "The Gene class is responsible for carrying \"genetic\" information, i.e. a string. \n",
    "* A call to mutate with a given rate results in either no change, or a change to a single character in the genomic code. \n",
    "* A call to random chooses random characters of number length as the Gene's code.\n",
    "* A call to calc_cost compares this Gene's genome with a target string, assigning itself the cost in the process. \n",
    "* mate takes another Gene as an argument and returns two genes sharing half their parents' code. "
   ]
  },
  {
   "cell_type": "markdown",
   "metadata": {},
   "source": [
    "## class Gene():\n",
    "    def __init__(self, code):\n",
    "        self.code = code\n",
    "        self.cost = 9999\n",
    "\n",
    "    def mate(self, gene):\n",
    "        middle = int(floor(len(self.code)/2))\n",
    "        return [Gene(self.code[:middle] + gene.code[middle:]),\n",
    "                Gene(gene.code[:middle] + self.code[middle:])]\n",
    "\n",
    "    def mutate(self, rate):\n",
    "        if random.random() < rate:\n",
    "            return\n",
    "\n",
    "        code = ''\n",
    "        index = round(random.random() * len(self.code))\n",
    "        for i in range(len(self.code)):\n",
    "            upOrDown = -1 if round(random.random()) else 1\n",
    "            if i == index and ord(self.code[i]) + upOrDown < 256 and ord(self.code[i]) > 0:\n",
    "                code += chr(ord(self.code[i]) + upOrDown)\n",
    "            else:\n",
    "                code += self.code[i]\n",
    "\n",
    "        self.code = code\n",
    "\n",
    "    def random(self, length):\n",
    "        code = ''\n",
    "        for i in range(length):\n",
    "            code += chr(int(random.random()*255))\n",
    "        self.code = code\n",
    "\n",
    "    def calc_cost(self, target):\n",
    "        total = 0\n",
    "        \n",
    "        for i in range(len(self.code)):\n",
    "            total += (ord(self.code[i]) - ord(target[i])) * (ord(self.code[i]) - ord(target[i]))\n",
    "\n",
    "        self.cost = total"
   ]
  },
  {
   "cell_type": "markdown",
   "metadata": {},
   "source": [
    "A population, in this context serves to evolve the genes to a predermined string. \n",
    "* `__init__` takes the target string, the population size, the chance of mutation per gene and round, and a boolean indicating whether to log the calculated costs each iteration.\n",
    "* `calc_costs` calculates the costs of all of its member genes as compared to the target string.\n",
    "* mutate takes chance as a parameter mutates all genes with the same chance of mutation. \n",
    "* `_generation` calls mutate and calc_costs and mates the Genes, returning True if the target string has been reached, and False otherwise. \n",
    "* `genotype` calls `_generation` until the target string has been reached. "
   ]
  },
  {
   "cell_type": "code",
   "execution_count": 22,
   "metadata": {},
   "outputs": [],
   "source": [
    "class Population():\n",
    "    def __init__(self, target=\"Hello, Worlds!\", size=100, log_costs=False):\n",
    "        self.target = target\n",
    "        self.members = []\n",
    "        for i in range(size):\n",
    "            gene = Gene('')\n",
    "            gene.random(len(self.target))\n",
    "            self.members.append(gene)\n",
    "        self.generationNumber = 0\n",
    "        \n",
    "        self.log_costs = log_costs\n",
    "        if self.log_costs:\n",
    "            self.cost_log = [] # logs the cost of the highest ranking member\n",
    "        \n",
    "    def calc_costs(self):\n",
    "        for member in self.members:\n",
    "            member.calc_cost(self.target)\n",
    "\n",
    "    def mutate(self, chance):\n",
    "        for member in self.members:\n",
    "            member.mutate(chance)\n",
    "\n",
    "    # Should be called after Population.calcCosts()\n",
    "    def sort(self):\n",
    "        self.members = sorted(self.members, key=lambda member: member.cost)\n",
    "\n",
    "    def display(self):\n",
    "        self.calc_costs()\n",
    "        self.sort()\n",
    "        print(\"Generation\", self.generationNumber, self.members[0].code, self.members[0].cost)\n",
    "\n",
    "    def genotype(self, mutation_rate=0.5, display=False):\n",
    "        while not self._generation(mutation_rate, display):\n",
    "            pass\n",
    "            \n",
    "        if self.log_costs:\n",
    "            return self.cost_log\n",
    "        else:\n",
    "            return self.generationNumber\n",
    "        \n",
    "    def _generation(self, mutation_rate=0.5, display=False):\n",
    "        self.calc_costs()\n",
    "        self.sort()\n",
    "        if self.log_costs:\n",
    "            self.cost_log.append(self.members[0].cost)\n",
    "        if display:\n",
    "            self.display()\n",
    "\n",
    "        children = self.members[0].mate(self.members[1])\n",
    "        self.members[-2] = children[0]\n",
    "        self.members[-1] = children[1]\n",
    "\n",
    "        for member in self.members:\n",
    "            member.mutate(mutation_rate)\n",
    "            member.calc_cost(self.target)\n",
    "            if member.code == self.target:\n",
    "                self.sort()\n",
    "                if display:\n",
    "                    self.display()\n",
    "                return True\n",
    "\n",
    "        self.generationNumber += 1\n",
    "        return False\n",
    "    "
   ]
  },
  {
   "cell_type": "markdown",
   "metadata": {},
   "source": [
    "With the Gene and population classes defined, we can \"evolve\" two strings that say a specific thing. "
   ]
  },
  {
   "cell_type": "code",
   "execution_count": null,
   "metadata": {},
   "outputs": [],
   "source": [
    "population = Population(target=\"A thousand monkeys not quite typing out Shakespeare!!!\", log_costs=True)\n",
    "population.genotype()\n",
    "plt.ion()\n",
    "plt.xkcd()\n",
    "plt.title(\"Evolution of 'A thousand monkeys not quite typing out Shakespeare!!!'\")\n",
    "plt.xlabel(\"iterations\")\n",
    "plt.ylabel(\"cost\")\n",
    "plt.plot(population.cost_log)\n",
    "plt.show()"
   ]
  },
  {
   "cell_type": "markdown",
   "metadata": {},
   "source": [
    "This plots how far off the strings where over each iteration. Think of \"each iteration\" as time. At least on my computer, I can see this hitting the limits of what's computable. "
   ]
  },
  {
   "cell_type": "markdown",
   "metadata": {},
   "source": [
    "Now we can manipulate variables and see what happens. "
   ]
  },
  {
   "cell_type": "code",
   "execution_count": null,
   "metadata": {},
   "outputs": [],
   "source": [
    "import numpy as np\n",
    "import matplotlib.pyplot as plt\n",
    "\n",
    "plt.ion()\n",
    "plt.xkcd()\n",
    "plt.title('Evolution of \"Hello, Worlds!\" at different mutation rates.')\n",
    "plt.xlabel('mutation rate')\n",
    "plt.ylabel('sum difference (x 10^6)')\n",
    "\n",
    "def genotype(mutation_rate):\n",
    "    population = Population(log_costs=True)\n",
    "    population.genotype(mutation_rate=pct)\n",
    "    s = sum(population.cost_log)\n",
    "    print(mutation_rate, s)\n",
    "    return s\n",
    "    \n",
    "population = Population(log_costs=True)\n",
    "plt.scatter(np.arange(0.0, 1.0, 0.05), [genotype(pct) for pct in np.arange(0.0, 1.0, 0.05)])\n",
    "plt.show()\n"
   ]
  },
  {
   "cell_type": "markdown",
   "metadata": {},
   "source": [
    "That doesn't look right! How can the sum of the population cost log be 3.5 at maximum? Time to adjust the legend. "
   ]
  },
  {
   "cell_type": "code",
   "execution_count": null,
   "metadata": {},
   "outputs": [],
   "source": [
    "plt.ion()\n",
    "plt.xkcd()\n",
    "plt.title('Evolution of \"Hello, Worlds!\" at different population sizes')\n",
    "plt.xlabel('population size')\n",
    "plt.ylabel('sum difference x 10^7')\n",
    "\n",
    "def genotype(population_size=100):\n",
    "    population = Population(\"Hello, Worlds!\", size=population_size, log_costs=True)\n",
    "    population.genotype(mutation_rate=0.1)\n",
    "    s = sum(population.cost_log)\n",
    "    print(population_size, s)\n",
    "    return s\n",
    "\n",
    "plt.scatter(range(10, 100, 5), [genotype(pop_size) for pop_size in range(10, 100, 5)])\n",
    "plt.show()"
   ]
  },
  {
   "cell_type": "code",
   "execution_count": null,
   "metadata": {},
   "outputs": [],
   "source": []
  }
 ],
 "metadata": {
  "kernelspec": {
   "display_name": "Python 2",
   "language": "python",
   "name": "python2"
  },
  "language_info": {
   "codemirror_mode": {
    "name": "ipython",
    "version": 2
   },
   "file_extension": ".py",
   "mimetype": "text/x-python",
   "name": "python",
   "nbconvert_exporter": "python",
   "pygments_lexer": "ipython2",
   "version": "2.7.14"
  }
 },
 "nbformat": 4,
 "nbformat_minor": 2
}
